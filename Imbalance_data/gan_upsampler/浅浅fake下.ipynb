{
 "cells": [
  {
   "cell_type": "code",
   "execution_count": 78,
   "metadata": {},
   "outputs": [],
   "source": [
    "import pandas as pd\n",
    "from main import Let_us_fake"
   ]
  },
  {
   "cell_type": "code",
   "execution_count": 79,
   "metadata": {},
   "outputs": [],
   "source": [
    "data = pd.read_csv('K3DATA_include_extra.csv')"
   ]
  },
  {
   "cell_type": "code",
   "execution_count": 80,
   "metadata": {},
   "outputs": [],
   "source": [
    "select_feats=['td_xyf_dq_score',\n",
    " 'cs_hnsk_xef',\n",
    " 'bwjk_score',\n",
    " 'credit_repayment_score_bj',\n",
    " 'upa_failed_deal_cnt_6m',\n",
    " 'umeng_score',\n",
    " 'cs_bxf_dianhua',\n",
    " 'hds_36m_day_max_purchase_cnt_excp_doub11_12',\n",
    " 'cl_fraud_score_ronghui',\n",
    " 'upa_debit_card_score',\n",
    " 'upa_failed_deal_cnt_3m',\n",
    " 'td_zhixin_score',\n",
    " 'wy_credit_score_credit_apply',\n",
    " 'br_drs_nodebtscore',\n",
    " 'ali_rain_score',\n",
    " 'relation_contact_cnt',\n",
    " 'mg_callb_contacts_rfm_time_spent_be_applied',\n",
    " 'bwjk_xyf',\n",
    " 'upa_max_consume_amt_6m',\n",
    " 'hds_consume_rich_rank',\n",
    " 'selffill_marital_status',\n",
    " 'area_risk_level',\n",
    " 'pre_loan_install',\n",
    " 'hds_total_consumme_active_rank',\n",
    " 'ocr_gender']"
   ]
  },
  {
   "cell_type": "code",
   "execution_count": 81,
   "metadata": {},
   "outputs": [],
   "source": [
    "categorical_feats = ['hds_consume_rich_rank',\n",
    " 'selffill_marital_status',\n",
    " 'area_risk_level',\n",
    " 'pre_loan_install',\n",
    " 'hds_total_consumme_active_rank',\n",
    " 'ocr_gender']"
   ]
  },
  {
   "cell_type": "code",
   "execution_count": 82,
   "metadata": {},
   "outputs": [],
   "source": [
    "numerical_feats = list(set(select_feats) - set(categorical_feats))"
   ]
  },
  {
   "cell_type": "code",
   "execution_count": 83,
   "metadata": {},
   "outputs": [],
   "source": [
    "label = ['fpd4']"
   ]
  },
  {
   "cell_type": "code",
   "execution_count": 84,
   "metadata": {},
   "outputs": [],
   "source": [
    "all_cols = label + select_feats"
   ]
  },
  {
   "cell_type": "code",
   "execution_count": 85,
   "metadata": {},
   "outputs": [],
   "source": [
    "data_use = data[all_cols]"
   ]
  },
  {
   "cell_type": "code",
   "execution_count": 86,
   "metadata": {},
   "outputs": [],
   "source": [
    "data_use.fillna(-99.0,inplace=True)"
   ]
  },
  {
   "cell_type": "code",
   "execution_count": 87,
   "metadata": {},
   "outputs": [],
   "source": [
    "data_use.ocr_gender.replace(-99.0,'-99',inplace=True)\n",
    "data_use.ali_rain_score.replace(-1.0,-99.0,inplace=True)\n",
    "data_use.wy_credit_score_credit_apply.replace(-999.0,-99.0,inplace=True)\n",
    "data_use.umeng_score.replace(-98.0,-99.0,inplace=True)"
   ]
  },
  {
   "cell_type": "code",
   "execution_count": null,
   "metadata": {},
   "outputs": [],
   "source": []
  },
  {
   "cell_type": "code",
   "execution_count": 88,
   "metadata": {
    "scrolled": false
   },
   "outputs": [
    {
     "name": "stdout",
     "output_type": "stream",
     "text": [
      "upa_failed_deal_cnt_6m count    30408.000000\n",
      "mean        14.016377\n",
      "std         35.497387\n",
      "min          0.000000\n",
      "25%          1.000000\n",
      "50%          5.000000\n",
      "75%         15.000000\n",
      "max       2186.000000\n",
      "Name: upa_failed_deal_cnt_6m, dtype: float64\n",
      "mg_callb_contacts_rfm_time_spent_be_applied count     27021.000000\n",
      "mean       4267.613819\n",
      "std       13026.504251\n",
      "min           1.000000\n",
      "25%         127.000000\n",
      "50%         574.000000\n",
      "75%        2518.000000\n",
      "max      427624.000000\n",
      "Name: mg_callb_contacts_rfm_time_spent_be_applied, dtype: float64\n",
      "upa_failed_deal_cnt_3m count    30408.000000\n",
      "mean         7.450375\n",
      "std         25.533018\n",
      "min          0.000000\n",
      "25%          0.000000\n",
      "50%          2.000000\n",
      "75%          7.000000\n",
      "max       2064.000000\n",
      "Name: upa_failed_deal_cnt_3m, dtype: float64\n",
      "relation_contact_cnt count    35239.000000\n",
      "mean         8.353642\n",
      "std         11.491883\n",
      "min          0.000000\n",
      "25%          3.000000\n",
      "50%          6.000000\n",
      "75%         11.000000\n",
      "max        710.000000\n",
      "Name: relation_contact_cnt, dtype: float64\n",
      "credit_repayment_score_bj count    35302.000000\n",
      "mean       595.595207\n",
      "std         84.658106\n",
      "min        300.000000\n",
      "25%        563.000000\n",
      "50%        605.000000\n",
      "75%        636.000000\n",
      "max        820.000000\n",
      "Name: credit_repayment_score_bj, dtype: float64\n",
      "wy_credit_score_credit_apply count    35373.000000\n",
      "mean        37.601900\n",
      "std         12.716071\n",
      "min          5.000000\n",
      "25%         28.000000\n",
      "50%         36.000000\n",
      "75%         46.000000\n",
      "max         81.000000\n",
      "Name: wy_credit_score_credit_apply, dtype: float64\n",
      "upa_debit_card_score count    21552.000000\n",
      "mean       339.391101\n",
      "std        363.668882\n",
      "min          1.000000\n",
      "25%         18.000000\n",
      "50%        176.000000\n",
      "75%        689.250000\n",
      "max       1000.000000\n",
      "Name: upa_debit_card_score, dtype: float64\n",
      "bwjk_score count    35376.000000\n",
      "mean        45.529338\n",
      "std         28.095022\n",
      "min          0.000000\n",
      "25%         18.460000\n",
      "50%         53.000000\n",
      "75%         68.080000\n",
      "max        100.000000\n",
      "Name: bwjk_score, dtype: float64\n",
      "umeng_score count    31198.000000\n",
      "mean       704.511732\n",
      "std         85.648699\n",
      "min        410.000000\n",
      "25%        645.000000\n",
      "50%        718.000000\n",
      "75%        773.000000\n",
      "max        848.000000\n",
      "Name: umeng_score, dtype: float64\n",
      "bwjk_xyf count    34143.000000\n",
      "mean       513.413848\n",
      "std        139.985234\n",
      "min        300.000000\n",
      "25%        397.000000\n",
      "50%        490.000000\n",
      "75%        609.000000\n",
      "max        900.000000\n",
      "Name: bwjk_xyf, dtype: float64\n",
      "br_drs_nodebtscore count    33265.000000\n",
      "mean        34.925658\n",
      "std          9.216882\n",
      "min          6.000000\n",
      "25%         29.000000\n",
      "50%         34.000000\n",
      "75%         39.000000\n",
      "max         93.000000\n",
      "Name: br_drs_nodebtscore, dtype: float64\n",
      "hds_36m_day_max_purchase_cnt_excp_doub11_12 count    23192.000000\n",
      "mean         4.204295\n",
      "std          6.787986\n",
      "min          0.000000\n",
      "25%          1.000000\n",
      "50%          2.000000\n",
      "75%          5.000000\n",
      "max        334.000000\n",
      "Name: hds_36m_day_max_purchase_cnt_excp_doub11_12, dtype: float64\n",
      "cs_bxf_dianhua count    27940.000000\n",
      "mean       446.909771\n",
      "std         97.109645\n",
      "min          0.000000\n",
      "25%        390.000000\n",
      "50%        452.000000\n",
      "75%        512.000000\n",
      "max        900.000000\n",
      "Name: cs_bxf_dianhua, dtype: float64\n",
      "cl_fraud_score_ronghui count    35373.000000\n",
      "mean        58.429565\n",
      "std         11.894740\n",
      "min         15.000000\n",
      "25%         51.000000\n",
      "50%         60.000000\n",
      "75%         66.000000\n",
      "max         92.000000\n",
      "Name: cl_fraud_score_ronghui, dtype: float64\n",
      "cs_hnsk_xef count    35361.000000\n",
      "mean       383.933967\n",
      "std         46.888512\n",
      "min        177.000000\n",
      "25%        351.000000\n",
      "50%        380.000000\n",
      "75%        412.000000\n",
      "max        600.000000\n",
      "Name: cs_hnsk_xef, dtype: float64\n",
      "td_xyf_dq_score count    35376.000000\n",
      "mean         0.009043\n",
      "std          0.005469\n",
      "min          0.001500\n",
      "25%          0.005400\n",
      "50%          0.007600\n",
      "75%          0.011100\n",
      "max          0.082900\n",
      "Name: td_xyf_dq_score, dtype: float64\n",
      "upa_max_consume_amt_6m count     21571.000000\n",
      "mean       3462.853898\n",
      "std       14304.398036\n",
      "min           0.000000\n",
      "25%           9.900000\n",
      "50%         659.930000\n",
      "75%        2643.030000\n",
      "max      670000.000000\n",
      "Name: upa_max_consume_amt_6m, dtype: float64\n",
      "ali_rain_score count    34145.000000\n",
      "mean        64.472330\n",
      "std         23.253854\n",
      "min          0.010000\n",
      "25%         48.570000\n",
      "50%         68.290000\n",
      "75%         83.760000\n",
      "max         99.990000\n",
      "Name: ali_rain_score, dtype: float64\n",
      "td_zhixin_score count    35376.000000\n",
      "mean       631.034628\n",
      "std         83.577789\n",
      "min          0.000000\n",
      "25%        599.000000\n",
      "50%        636.000000\n",
      "75%        673.000000\n",
      "max        855.000000\n",
      "Name: td_zhixin_score, dtype: float64\n"
     ]
    }
   ],
   "source": [
    "for f in list(numerical_feats):\n",
    "    print(f,data_use[data_use[f]!=-99][f].describe())    "
   ]
  },
  {
   "cell_type": "code",
   "execution_count": null,
   "metadata": {},
   "outputs": [],
   "source": []
  },
  {
   "cell_type": "code",
   "execution_count": 90,
   "metadata": {},
   "outputs": [],
   "source": [
    "# params\n",
    "data_path = 'K3DATA_include_extra.csv'\n",
    "test_ratio = 0.1\n",
    "categorical_columns = categorical_feats\n",
    "log_columns = ['upa_failed_deal_cnt_6m','mg_callb_contacts_rfm_time_spent_be_applied',\n",
    "              'upa_failed_deal_cnt_3m','relation_contact_cnt','hds_36m_day_max_purchase_cnt_excp_doub11_12',\n",
    "              'td_xyf_dq_score','upa_max_consume_amt_6m']\n",
    "mixed_columns = {}\n",
    "\n",
    "# 由于所有numerical columns 都包含缺失值 -99.0 \n",
    "for f in numerical_feats:\n",
    "    mixed_columns[f] = [-99.0]\n",
    "\n",
    "integer_columns = []\n",
    "problem_type = {'classification':'fpd4'}"
   ]
  },
  {
   "cell_type": "code",
   "execution_count": 92,
   "metadata": {},
   "outputs": [],
   "source": [
    "magic_faker = Let_us_fake(data_path=data_path,\n",
    "                          test_ratio=test_ratio,\n",
    "                          categorical_columns=categorical_columns,\n",
    "                          log_columns=log_columns,\n",
    "                          mixed_columns=mixed_columns,\n",
    "                          integer_columns=integer_columns,\n",
    "                          problem_type=problem_type,\n",
    "                          epochs=1)"
   ]
  },
  {
   "cell_type": "code",
   "execution_count": null,
   "metadata": {},
   "outputs": [],
   "source": []
  }
 ],
 "metadata": {
  "hide_input": false,
  "kernelspec": {
   "display_name": "Python 3",
   "language": "python",
   "name": "python3"
  },
  "language_info": {
   "codemirror_mode": {
    "name": "ipython",
    "version": 3
   },
   "file_extension": ".py",
   "mimetype": "text/x-python",
   "name": "python",
   "nbconvert_exporter": "python",
   "pygments_lexer": "ipython3",
   "version": "3.6.8"
  }
 },
 "nbformat": 4,
 "nbformat_minor": 2
}
